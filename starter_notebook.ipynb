{
 "cells": [
  {
   "cell_type": "markdown",
   "metadata": {},
   "source": [
    "# Step0 - Import Libraries, Load Data\n",
    "\n",
    "Load the data and create train and test sets for internal validation.\n",
    "\n",
    "Not all features provided are used for the model. Include information that is available before making the promotional call. For instance, “duration” feature should definitely NOT be used as we don’t know the duration of the call before the call has been made.\n"
   ]
  },
  {
   "cell_type": "code",
   "execution_count": 6,
   "metadata": {
    "collapsed": true
   },
   "outputs": [],
   "source": [
    "import pandas as pd\n",
    "import numpy as np\n",
    "import matplotlib.pyplot as plt\n",
    "from sklearn.pipeline import make_pipeline \n",
    "from imblearn.under_sampling import RandomUnderSampler\n",
    "from sklearn.model_selection import train_test_split, cross_val_predict, cross_val_score, GridSearchCV\n",
    "from imblearn.over_sampling import SMOTE\n",
    "from sklearn.preprocessing import LabelEncoder, scale, StandardScaler, PolynomialFeatures,Normalizer\n",
    "from sklearn.feature_selection import f_classif, mutual_info_classif, VarianceThreshold, SelectPercentile, SelectKBest\n",
    "from sklearn.decomposition import PCA\n",
    "from sklearn.linear_model import RidgeClassifier, RidgeClassifierCV, LogisticRegression\n",
    "from sklearn.svm import SVC\n",
    "from sklearn.ensemble import RandomForestClassifier, VotingClassifier, GradientBoostingClassifier, AdaBoostClassifier, ExtraTreesClassifier, BaggingClassifier\n",
    "from imblearn.pipeline import make_pipeline as make_imb_pipeline\n",
    "from imblearn.over_sampling import RandomOverSampler\n",
    "from sklearn.tree import DecisionTreeClassifier\n",
    "from sklearn.metrics import roc_auc_score"
   ]
  },
  {
   "cell_type": "code",
   "execution_count": 10,
   "metadata": {
    "collapsed": false
   },
   "outputs": [],
   "source": [
    "bank = pd.read_csv('data/data.csv')"
   ]
  },
  {
   "cell_type": "markdown",
   "metadata": {},
   "source": [
    "# Step1 - Exploration and Preparation\n",
    "\n",
    "Look into the data and try to understand it before modeling. Make some basic data preparation steps which are common across the two model sets required."
   ]
  },
  {
   "cell_type": "code",
   "execution_count": 11,
   "metadata": {
    "collapsed": true
   },
   "outputs": [],
   "source": [
    "# unbalance data\n",
    "sum(bank['subscribed']==\"yes\") # 3721\n",
    "sum(bank['subscribed']==\"no\")  # 29238\n",
    "no_bank = bank.subscribed.isnull()\n",
    "no_bank.value_counts()         # no missing values\n",
    "df_bank = bank[~no_bank]\n",
    "# change y to {0,1}\n",
    "sub = df_bank.subscribed\n",
    "le = LabelEncoder()\n",
    "le.fit(['yes','no'])\n",
    "sub = le.transform(sub)\n",
    "data = df_bank.drop(\"subscribed\", axis=1)\n",
    "data = data.drop(\"duration\", axis=1)   # not need"
   ]
  },
  {
   "cell_type": "code",
   "execution_count": 12,
   "metadata": {
    "collapsed": false
   },
   "outputs": [
    {
     "name": "stdout",
     "output_type": "stream",
     "text": [
      "original 999    31707\n",
      "3        373\n",
      "6        332\n",
      "4        105\n",
      "9         55\n",
      "7         48\n",
      "2         46\n",
      "12        45\n",
      "5         42\n",
      "10        40\n",
      "13        26\n",
      "11        23\n",
      "1         19\n",
      "15        18\n",
      "14        17\n",
      "8         13\n",
      "0         11\n",
      "16        10\n",
      "17         5\n",
      "18         4\n",
      "19         3\n",
      "22         3\n",
      "21         2\n",
      "26         1\n",
      "20         1\n",
      "27         1\n",
      "Name: prev_days, dtype: int64\n",
      "impute 0    31707\n",
      "1     1243\n",
      "Name: prev_days, dtype: int64\n",
      "original 0    28423\n",
      "1     3670\n",
      "2      606\n",
      "3      170\n",
      "4       58\n",
      "5       17\n",
      "6        5\n",
      "7        1\n",
      "Name: prev_contacts, dtype: int64\n",
      "impute 0    28423\n",
      "1     4527\n",
      "Name: prev_contacts, dtype: int64\n",
      "original no         26059\n",
      "unknown     6888\n",
      "yes            3\n",
      "Name: credit_default, dtype: int64\n",
      "impute known      26062\n",
      "unknown     6888\n",
      "Name: credit_default, dtype: int64\n",
      "original yes        17176\n",
      "no         14974\n",
      "unknown      800\n",
      "Name: housing, dtype: int64\n",
      "impute yes    17976\n",
      "no     14974\n",
      "Name: housing, dtype: int64\n",
      "original university.degree      9760\n",
      "high.school            7580\n",
      "basic.9y               4889\n",
      "professional.course    4154\n",
      "basic.4y               3313\n",
      "basic.6y               1846\n",
      "unknown                1394\n",
      "illiterate               14\n",
      "Name: education, dtype: int64\n",
      "impute low                    10048\n",
      "university.degree       9760\n",
      "high.school             7580\n",
      "professional.course     4154\n",
      "unknown                 1394\n",
      "illiterate                14\n",
      "Name: education, dtype: int64\n"
     ]
    }
   ],
   "source": [
    "# most are not contacted before, change to binary\n",
    "print(\"original\", data['prev_days'].value_counts()) # #999:28423, 96%\n",
    "condition = data['prev_days'] == 999\n",
    "data.loc[condition, 'prev_days'] = 0\n",
    "data.loc[-condition, 'prev_days'] = 1\n",
    "print(\"impute\", data['prev_days'].value_counts())\n",
    "\n",
    "# most are not contacted before, change to binary\n",
    "print(\"original\", data['prev_contacts'].value_counts()) # #0:31707, 86%\n",
    "condition = data['prev_contacts'] == 0\n",
    "data.loc[condition, 'prev_contacts'] = 0\n",
    "data.loc[-condition, 'prev_contacts'] = 1\n",
    "print(\"impute\", data['prev_contacts'].value_counts())\n",
    "\n",
    "# change 'no' and 'yes' as 'known', which is the most frequent\n",
    "print(\"original\", data.credit_default.value_counts())  # unknown:20%\n",
    "condition = data['credit_default'] =='yes'\n",
    "condition1 = data['credit_default'] =='no'\n",
    "data.loc[condition, 'credit_default'] = 'known'\n",
    "data.loc[condition1, 'credit_default'] = 'known'\n",
    "print(\"impute\", data.credit_default.value_counts())\n",
    "#data = data.drop(data[data.credit_default == 'yes'].index)\n",
    "\n",
    "# impute unknown housing by yes, which is the most frequent\n",
    "print(\"original\", data.housing.value_counts()) # unknown: 800\n",
    "condition = data['housing'] =='unknown'\n",
    "data.loc[condition, 'housing'] = 'yes'\n",
    "print(\"impute\", data.housing.value_counts())\n",
    "\n",
    "# reclassify the levels of education, no big difference between 4,6,9 yr\n",
    "print(\"original\", data.education.value_counts())  # unknown:20%\n",
    "condition1 = data['education'] =='basic.4y'\n",
    "condition2 = data['education'] =='basic.6y'\n",
    "condition3 = data['education'] =='basic.9y'\n",
    "#condition4 = data['education'] =='illiterate'\n",
    "#condition5 = data['education'] =='high.school'\n",
    "data.loc[condition1, 'education'] = 'low'\n",
    "data.loc[condition2, 'education'] = 'low'\n",
    "data.loc[condition3, 'education'] = 'low'\n",
    "#data.loc[condition4, 'education'] = 'low'\n",
    "\n",
    "print(\"impute\", data.education.value_counts())\n",
    "\n",
    "# get dummies for categorical features\n",
    "data_dummies = pd.get_dummies(data, columns = ['job','marital_status','education',\n",
    "                                               'credit_default','housing','loan',\n",
    "                                               'contact','month','day_of_week', 'prev_days',\n",
    "                                               'prev_contacts','prev_outcomes'])\n"
   ]
  },
  {
   "cell_type": "code",
   "execution_count": 13,
   "metadata": {
    "collapsed": false
   },
   "outputs": [
    {
     "data": {
      "text/plain": [
       "(32950, 60)"
      ]
     },
     "execution_count": 13,
     "metadata": {},
     "output_type": "execute_result"
    }
   ],
   "source": [
    "data_dummies.shape"
   ]
  },
  {
   "cell_type": "code",
   "execution_count": 14,
   "metadata": {
    "collapsed": false
   },
   "outputs": [],
   "source": [
    "# split to test set and train set\n",
    "data_train, data_test, sub_train, sub_test = train_test_split(data_dummies,  sub, stratify=sub, random_state=1)"
   ]
  },
  {
   "cell_type": "code",
   "execution_count": 15,
   "metadata": {
    "collapsed": true
   },
   "outputs": [],
   "source": [
    "# imbalanced data\n",
    "smote = SMOTE()\n",
    "data_train_smote, sub_train_smote = smote.fit_sample(data_train, sub_train)"
   ]
  },
  {
   "cell_type": "code",
   "execution_count": 16,
   "metadata": {
    "collapsed": true
   },
   "outputs": [],
   "source": [
    "rus = RandomUnderSampler()\n",
    "data_train_rus, sub_train_rus= rus.fit_sample(data_train, sub_train)\n",
    "\n",
    "ros = RandomOverSampler()\n",
    "data_train_ros, sub_train_ros = ros.fit_sample(data_train, sub_train)"
   ]
  },
  {
   "cell_type": "code",
   "execution_count": 17,
   "metadata": {
    "collapsed": false
   },
   "outputs": [
    {
     "data": {
      "image/png": "[encoded data removed]",
      "text/plain": [
       "<matplotlib.figure.Figure at 0x11696ee80>"
      ]
     },
     "metadata": {},
     "output_type": "display_data"
    }
   ],
   "source": [
    "# feature information\n",
    "F, p = f_classif(data_train_rus, sub_train_rus)\n",
    "\n",
    "top_n = 60\n",
    "inds = np.argsort(F)\n",
    "plt.figure(figsize=(5, 15))\n",
    "plt.barh(np.arange(top_n), F[inds[-top_n:]])\n",
    "plt.yticks(np.arange(top_n), data_train.columns[inds[-top_n:]])\n",
    "plt.ylim(0, top_n)\n",
    "plt.show()"
   ]
  },
  {
   "cell_type": "code",
   "execution_count": 52,
   "metadata": {
    "collapsed": false
   },
   "outputs": [
    {
     "data": {
      "image/png": "[encoded data removed]",
      "text/plain": [
       "<matplotlib.figure.Figure at 0x10559eba8>"
      ]
     },
     "metadata": {},
     "output_type": "display_data"
    }
   ],
   "source": [
    "mi = mutual_info_classif(data_train_smote, sub_train_smote)\n",
    "inds = np.argsort(mi)\n",
    "plt.figure(figsize=(5, 15))\n",
    "plt.barh(np.arange(len(mi)), mi[inds])\n",
    "plt.yticks(np.arange(len(mi)), data_train.columns[inds])\n",
    "plt.ylim(0, len(mi))\n",
    "plt.show()"
   ]
  },
  {
   "cell_type": "markdown",
   "metadata": {},
   "source": [
    "# Step2 - ModelSet1 \n",
    "\n",
    "Perform the following steps relevant to the models for set1:\n",
    "\n",
    "* feature engineering\n",
    "* validation\n",
    "* feature selection\n",
    "* final model selection\n"
   ]
  },
  {
   "cell_type": "code",
   "execution_count": null,
   "metadata": {
    "collapsed": true
   },
   "outputs": [],
   "source": [
    "# no predict_proba, not work \n",
    "ridge_pca_pipe = make_pipeline(StandardScaler(), PCA(), PolynomialFeatures(interaction_only=True), \n",
    "                             VarianceThreshold(), RidgeClassifier())\n",
    "ridge_pca_para = {'pca__n_components': [1, 2, 3, 4, 5, 6, 7, 8, 9, 10],\n",
    "            'polynomialfeatures__degree': [1, 2]}\n",
    "ridge_pca_grid = GridSearchCV(ridge_pca_pipe, ridge_pca_para, cv=5, scoring='roc_auc')\n",
    "ridge_pca_grid.fit(data_train_smote, sub_train_smote)\n",
    "print(ridge_pca_grid.score(data_train_smote, sub_train_smote))\n",
    "print(ridge_pca_grid.score(data_test, sub_test))\n",
    "ridge_pca_grid.best_params_"
   ]
  },
  {
   "cell_type": "code",
   "execution_count": 96,
   "metadata": {
    "collapsed": false,
    "scrolled": true
   },
   "outputs": [
    {
     "name": "stdout",
     "output_type": "stream",
     "text": [
      "0.809160540734\n",
      "0.794498561253\n"
     ]
    },
    {
     "data": {
      "text/plain": [
       "{'logisticregression__C': 0.1,\n",
       " 'logisticregression__penalty': 'l1',\n",
       " 'polynomialfeatures__degree': 2,\n",
       " 'selectpercentile__percentile': 40}"
      ]
     },
     "execution_count": 96,
     "metadata": {},
     "output_type": "execute_result"
    }
   ],
   "source": [
    "lr_f_pipe = make_imb_pipeline(RandomUnderSampler(), StandardScaler(),SelectPercentile(score_func=f_classif), \n",
    "                         PolynomialFeatures(interaction_only=True), VarianceThreshold(), LogisticRegression())\n",
    "lr_f_param = {'selectpercentile__percentile': [5, 10, 20, 30, 40, 50], 'polynomialfeatures__degree': [1, 2],\n",
    "             'logisticregression__C': [.1, 1, 10, 100], 'logisticregression__penalty': ['l1', 'l2']}\n",
    "lr_f_grid = GridSearchCV(lr_f_pipe, lr_f_param, cv=5, scoring='roc_auc')\n",
    "lr_f_grid.fit(data_train, sub_train)\n",
    "\n",
    "print(lr_f_grid.score(data_train, sub_train))\n",
    "print(lr_f_grid.score(data_test, sub_test))\n",
    "lr_f_grid.best_params_"
   ]
  },
  {
   "cell_type": "code",
   "execution_count": null,
   "metadata": {
    "collapsed": true
   },
   "outputs": [],
   "source": [
    "svc_param = {'pca__n_components': np.arange(5,45,5)}\n",
    "svc_pipe = make_imb_pipeline(StandardScaler(), RandomUnderSampler(replacement=False), PCA(), SVC())\n",
    "svc_pca = GridSearchCV(svc_pipe, param_grid=svc_param, cv=10, scoring='roc_auc')\n",
    "svc_pca.fit(data_train, sub_train)\n",
    "\n",
    "print(svc_pca.score(data_train,sub_train))\n",
    "print(svc_pca.score(data_test,sub_test))\n",
    "svc_pca.best_params_\n",
    "#SVC, n_components = 40"
   ]
  },
  {
   "cell_type": "code",
   "execution_count": 11,
   "metadata": {
    "collapsed": false
   },
   "outputs": [
    {
     "name": "stdout",
     "output_type": "stream",
     "text": [
      "0.99833546151\n",
      "0.855304685603\n"
     ]
    }
   ],
   "source": [
    "svc = SVC(gamma=.05, C=10).fit(data_train_smote, sub_train_smote)\n",
    "print(svc.score(data_train_smote,sub_train_smote))\n",
    "print(svc.score(data_test,sub_test))"
   ]
  },
  {
   "cell_type": "markdown",
   "metadata": {},
   "source": [
    "# Step3 - ModelSet2 \n",
    "\n",
    "Perform the following steps relevant to the models chose for set2:\n",
    "\n",
    "* feature engineering\n",
    "* validation\n",
    "* feature selection\n",
    "* final model selection\n",
    "\n",
    "Try on decition tree, random forest and gradient boosted tree methods here and pick the one that works best."
   ]
  },
  {
   "cell_type": "code",
   "execution_count": 102,
   "metadata": {
    "collapsed": false
   },
   "outputs": [
    {
     "name": "stdout",
     "output_type": "stream",
     "text": [
      "0.884293148864\n",
      "0.796562116727\n"
     ]
    },
    {
     "data": {
      "text/plain": [
       "{'normalizer': Normalizer(copy=True, norm='l2'),\n",
       " 'polynomialfeatures__degree': 2,\n",
       " 'randomforestclassifier__min_samples_split': 50,\n",
       " 'randomforestclassifier__n_estimators': 40,\n",
       " 'selectpercentile__percentile': 50}"
      ]
     },
     "execution_count": 102,
     "metadata": {},
     "output_type": "execute_result"
    }
   ],
   "source": [
    "rf_f_pipe = make_imb_pipeline(RandomUnderSampler(), Normalizer(), SelectPercentile(score_func=f_classif), \n",
    "                         PolynomialFeatures(interaction_only=True), VarianceThreshold(), RandomForestClassifier())\n",
    "rf_f_param = {\"normalizer\": [None, Normalizer()],\n",
    "              'selectpercentile__percentile': [10, 20, 30, 40, 50], \n",
    "              'polynomialfeatures__degree': [1, 2],\n",
    "              'randomforestclassifier__n_estimators': np.arange(10,110,10), \n",
    "              'randomforestclassifier__min_samples_split': [10, 50,100]}\n",
    "rf_f_grid = GridSearchCV(rf_f_pipe, rf_f_param, cv=10, scoring='roc_auc')\n",
    "rf_f_grid.fit(data_train, sub_train)\n",
    "\n",
    "print(rf_f_grid.score(data_train, sub_train))\n",
    "print(rf_f_grid.score(data_test, sub_test))\n",
    "rf_f_grid.best_params_"
   ]
  },
  {
   "cell_type": "code",
   "execution_count": null,
   "metadata": {
    "collapsed": true
   },
   "outputs": [],
   "source": [
    "rf_smote_pipe = make_imb_pipeline(StandardScaler(), SMOTE(), RandomForestClassifier(max_features=40))\n",
    "rf_smote_param = {'randomforestclassifier__n_estimators':  np.arange(10, 110, 10)}\n",
    "rf_smote_grid = GridSearchCV(rf_smote_pipe, param_grid=rf_smote_param, cv=10)\n",
    "rf_smote_grid.fit(data_train, sub_train)\n",
    "print(rf_smote_grid.best_score_)\n",
    "print(rf_smote_grid.best_params_)\n",
    "print(rf_smote_grid.score(X_test, y_test))\n",
    "#Random Forest, n_estimators = 100"
   ]
  },
  {
   "cell_type": "code",
   "execution_count": null,
   "metadata": {
    "collapsed": true
   },
   "outputs": [],
   "source": [
    "gbc_pipe = make_imb_pipeline(StandardScaler(), RandomUnderSampler(replacement=False), GradientBoostingClassifier(random_state=0))\n",
    "gbc_param = {'gradientboostingclassifier__n_estimators':  np.arange(10, 110, 10),\n",
    "             'gradientboostingclassifier__max_features': [30, 35, 40, 45, 50]}\n",
    "gbc_grid = GridSearchCV(pipe, param_grid=param_grid, cv=10, scoring = 'roc_auc')\n",
    "gbc_grid.fit(X_train, y_train)\n",
    "print(gbc_grid.best_score_)\n",
    "print(gbc_grid.best_params_)\n",
    "print(gbc_grid.score(X_test, y_test))\n",
    "\n",
    "#{'gradientboostingclassifier__max_features': 40, \n",
    "#'gradientboostingclassifier__n_estimators': 60}"
   ]
  },
  {
   "cell_type": "code",
   "execution_count": null,
   "metadata": {
    "collapsed": true
   },
   "outputs": [],
   "source": [
    "gbc_smote_pipe = make_imb_pipeline(StandardScaler(), SMOTE(), GradientBoostingClassifier(max_features=40))\n",
    "gbc_smote_param_grid = {'gradientboostingclassifier__n_estimators':  np.arange(10, 110, 10)}\n",
    "gbc_smote_grid = GridSearchCV(gbc_smote_pipe, param_grid=pgbc_smote_para, cv=10)\n",
    "gbc_smote_grid.fit(data_train, sub_train)\n",
    "print(gbc_smote_grid.best_score_)\n",
    "print(gbc_smote_grid.best_params_)\n",
    "print(gbc_smote_grid.score(X_test, y_test))\n",
    "#Gradient Boosting, n_estimators=100"
   ]
  },
  {
   "cell_type": "code",
   "execution_count": null,
   "metadata": {
    "collapsed": true
   },
   "outputs": [],
   "source": [
    "etc_f_pipe = make_pipeline(RandomUnderSampler(), Normalizer(), SelectPercentile(score_func=f_classif), \n",
    "                         PolynomialFeatures(interaction_only=True), VarianceThreshold(), ExtraTreesClassifier())\n",
    "etc_f_param = {\"normalizer\": [None, Normalizer()],\n",
    "              'selectpercentile__percentile': [10, 20, 30, 40, 50], \n",
    "              'polynomialfeatures__degree': [1, 2],\n",
    "              'extratreesclassifier__n_estimators': np.arange(10,110,10), \n",
    "              'extratreesclassifier__min_samples_split': [10,50,100,200]}\n",
    "etc_f_grid = GridSearchCV(etc_f_pipe, etc_f_param, cv=10, scoring='roc_auc')\n",
    "etc_f_grid.fit(data_train, sub_train)\n",
    "\n",
    "print(etc_f_grid.score(data_train, sub_train))\n",
    "print(etc_f_grid.score(data_test, sub_test))\n",
    "etc_f_grid.best_params_\n",
    "\n"
   ]
  },
  {
   "cell_type": "code",
   "execution_count": null,
   "metadata": {
    "collapsed": true
   },
   "outputs": [],
   "source": [
    "bc_f_pipe = make_pipeline(RandomUnderSampler(), Normalizer(), SelectPercentile(score_func=f_classif), \n",
    "                         PolynomialFeatures(interaction_only=True), VarianceThreshold(), BaggingClassifier())\n",
    "bc_f_param = {\"normalizer\": [None, Normalizer()],\n",
    "              'selectpercentile__percentile': [10, 20, 30, 40, 50], \n",
    "              'polynomialfeatures__degree': [1, 2],\n",
    "              'baggingclassifier__n_estimators': np.arange(10,110,10), \n",
    "              'baggingclassifier__min_samples_split': [50, 100, 200, 300]}\n",
    "bc_f_grid = GridSearchCV(bc_f_pipe, bc_f_param, cv=10, scoring='roc_auc')\n",
    "bc_f_grid.fit(data_train, sub_train)\n",
    "\n",
    "print(bc_f_grid.score(data_train, sub_train))\n",
    "print(bc_f_grid.score(data_test, sub_test))\n",
    "bc_f_grid.best_params_\n"
   ]
  },
  {
   "cell_type": "markdown",
   "metadata": {},
   "source": [
    "# Step4 - Ensemble \n",
    "\n",
    "Use the models created before and create new predictions. Try poor man's stacking.\n",
    "\n",
    "Report the test error using area under the ROC curve."
   ]
  },
  {
   "cell_type": "code",
   "execution_count": null,
   "metadata": {
    "collapsed": true
   },
   "outputs": [],
   "source": [
    "# RandomUnderSampler() runs faster than SMOTE() and RandomOverSampler(),\n",
    "# and it works well, so we pick RandomUnderSampler() in the voting"
   ]
  },
  {
   "cell_type": "code",
   "execution_count": 18,
   "metadata": {
    "collapsed": false
   },
   "outputs": [
    {
     "name": "stdout",
     "output_type": "stream",
     "text": [
      "0.82 0.81 0.82 0.84 0.83 \n"
     ]
    }
   ],
   "source": [
    "lr_f = make_imb_pipeline(RandomUnderSampler(), SelectPercentile(percentile=40), PolynomialFeatures(degree=2, interaction_only=True),\n",
    "                     VarianceThreshold(), LogisticRegression(C=.1, penalty='l1'))\n",
    "\n",
    "svc_pca = make_imb_pipeline(StandardScaler(), RandomUnderSampler(replacement=False), PCA(n_components=40), \n",
    "                             SVC(probability=True))\n",
    "\n",
    "\n",
    "rf_f= make_imb_pipeline(RandomUnderSampler(),SelectPercentile(percentile=50), PolynomialFeatures(interaction_only=True, degree=1), \n",
    "                    RandomForestClassifier(min_samples_split=100, n_estimators=80))\n",
    "\n",
    "gbc_f = make_imb_pipeline(RandomUnderSampler(), StandardScaler(), RandomUnderSampler(replacement=False), \n",
    "                             GradientBoostingClassifier(learning_rate=.1, max_features=40, n_estimators=80))\n",
    "\n",
    "voting = VotingClassifier([('lr_f', lr_f),\n",
    "                           ('svc_pca', svc_pca),\n",
    "                           ('rf_f', rf_f),\n",
    "                           ('gbc_f', gbc_f)],\n",
    "                          voting='soft', weights = [2,1,2,1])\n",
    "voting.fit(data_train, sub_train)\n",
    "lr_f,svc_f,rf_f,gbc_f = voting.estimators_\n",
    "print((\"{:.2f} \" * 5).format(voting.score(data_test, sub_test), lr_f.score(data_test, sub_test),\n",
    "                             svc_f.score(data_test, sub_test),rf_f.score(data_test, sub_test), \n",
    "                             gbc_f.score(data_test, sub_test)))\n",
    "\n",
    "\n"
   ]
  },
  {
   "cell_type": "code",
   "execution_count": 19,
   "metadata": {
    "collapsed": false
   },
   "outputs": [
    {
     "data": {
      "text/plain": [
       "0.74664326737110231"
      ]
     },
     "execution_count": 19,
     "metadata": {},
     "output_type": "execute_result"
    }
   ],
   "source": [
    "sub_pred = voting.predict(data_test)\n",
    "roc_auc = roc_auc_score(sub_test, sub_pred)\n",
    "roc_auc"
   ]
  },
  {
   "cell_type": "code",
   "execution_count": null,
   "metadata": {
    "collapsed": false
   },
   "outputs": [],
   "source": [
    "lr_f_smote = make_imb_pipeline(SMOTE(), SelectPercentile(percentile=40), PolynomialFeatures(degree=2, interaction_only=True),\n",
    "                     VarianceThreshold(), LogisticRegression(C=.1, penalty='l1'))\n",
    "\n",
    "svc_pca_smote = make_imb_pipeline(SMOTE(), StandardScaler(), \n",
    "                                  PCA(n_components=40), SVC(probability=True))\n",
    "\n",
    "\n",
    "rf_f_smote= make_imb_pipeline(SMOTE(), SelectPercentile(percentile=50), PolynomialFeatures(interaction_only=True, degree=1), \n",
    "                    RandomForestClassifier(min_samples_split=100, n_estimators=80))\n",
    "\n",
    "gbc_f_smote = make_imb_pipeline(SMOTE(), StandardScaler(), \n",
    "                             GradientBoostingClassifier(learning_rate=.1, max_features=40, n_estimators=80))\n",
    "\n",
    "voting_smote = VotingClassifier([('lr_f', lr_f_smote),\n",
    "                           ('svc_pca', svc_pca_smote),\n",
    "                           ('rf_f', rf_f_smote),\n",
    "                           ('gbc_f', gbc_f_smote)],\n",
    "                          voting='soft', weights = [2,1,2,1])\n",
    "voting_smote.fit(data_train, sub_train)\n",
    "lr_f_smote,svc_f_smote,rf_f_smote,gbc_f_smote = voting.estimators_\n",
    "print((\"{:.2f} \" * 5).format(voting_smote.score(data_test, sub_test), lr_f_smote.score(data_test, sub_test),\n",
    "                             svc_f_smote.score(data_test, sub_test),rf_f_smote.score(data_test, sub_test), \n",
    "                             gbc_f_smote.score(data_test, sub_test)))\n",
    "\n",
    "\n",
    "\n"
   ]
  },
  {
   "cell_type": "code",
   "execution_count": 101,
   "metadata": {
    "collapsed": false
   },
   "outputs": [
    {
     "data": {
      "text/plain": [
       "0.74429970163686965"
      ]
     },
     "execution_count": 101,
     "metadata": {},
     "output_type": "execute_result"
    }
   ],
   "source": [
    "sub_pred = voting.predict(data_test)\n",
    "roc_auc_score = roc_auc_score(sub_test, sub_pred)"
   ]
  },
  {
   "cell_type": "code",
   "execution_count": 20,
   "metadata": {
    "collapsed": false
   },
   "outputs": [
    {
     "name": "stdout",
     "output_type": "stream",
     "text": [
      "original 0    7140\n",
      "1     891\n",
      "2     148\n",
      "3      46\n",
      "4      12\n",
      "5       1\n",
      "Name: prev_contacts, dtype: int64\n",
      "impute 0    7140\n",
      "1    1098\n",
      "Name: prev_contacts, dtype: int64\n",
      "original no         6529\n",
      "unknown    1709\n",
      "Name: credit_default, dtype: int64\n",
      "impute known      6529\n",
      "unknown    1709\n",
      "Name: credit_default, dtype: int64\n",
      "original yes        4400\n",
      "no         3648\n",
      "unknown     190\n",
      "Name: housing, dtype: int64\n",
      "impute yes    4590\n",
      "no     3648\n",
      "Name: housing, dtype: int64\n",
      "original university.degree      2408\n",
      "high.school            1935\n",
      "basic.9y               1156\n",
      "professional.course    1089\n",
      "basic.4y                863\n",
      "basic.6y                446\n",
      "unknown                 337\n",
      "illiterate                4\n",
      "Name: education, dtype: int64\n",
      "impute low                    2465\n",
      "university.degree      2408\n",
      "high.school            1935\n",
      "professional.course    1089\n",
      "unknown                 337\n",
      "illiterate                4\n",
      "Name: education, dtype: int64\n"
     ]
    },
    {
     "data": {
      "text/plain": [
       "(8238, 60)"
      ]
     },
     "execution_count": 20,
     "metadata": {},
     "output_type": "execute_result"
    }
   ],
   "source": [
    "# load in holdout data set\n",
    "hold = pd.read_csv(\"data/holdout.csv\")\n",
    "id_hold = hold['ID']\n",
    "hold = hold.drop('ID', axis=1)\n",
    "data_hold = hold.drop(\"duration\", axis=1)   # not need\n",
    "\n",
    "#update data formate to be the same as in the training set\n",
    "\n",
    "data_hold['prev_days'].value_counts() \n",
    "condition = data_hold['prev_days'] == 999\n",
    "data_hold.loc[condition, 'prev_days'] = 0\n",
    "data_hold.loc[-condition, 'prev_days'] = 1\n",
    "data_hold['prev_days'].value_counts()\n",
    "\n",
    "# most are not contacted before, change to binary\n",
    "print(\"original\", data_hold['prev_contacts'].value_counts()) # #0:31707, 86%\n",
    "condition = data_hold['prev_contacts'] == 0\n",
    "data_hold.loc[condition, 'prev_contacts'] = 0\n",
    "data_hold.loc[-condition, 'prev_contacts'] = 1\n",
    "print(\"impute\", data_hold['prev_contacts'].value_counts())\n",
    "\n",
    "# change 'no' and 'yes' as 'known', which is the most frequent\n",
    "print(\"original\", data_hold.credit_default.value_counts())  # unknown:20%\n",
    "condition = data_hold['credit_default'] =='yes'\n",
    "condition1 = data_hold['credit_default'] =='no'\n",
    "data_hold.loc[condition, 'credit_default'] = 'known'\n",
    "data_hold.loc[condition1, 'credit_default'] = 'known'\n",
    "print(\"impute\", data_hold.credit_default.value_counts())\n",
    "\n",
    "# impute unknown housing by yes, which is the most frequent\n",
    "print(\"original\", data_hold.housing.value_counts()) # unknown: 800\n",
    "condition = data_hold['housing'] =='unknown'\n",
    "data_hold.loc[condition, 'housing'] = 'yes'\n",
    "print(\"impute\", data_hold.housing.value_counts())\n",
    "\n",
    "# reclassify the levels of education\n",
    "print(\"original\", data_hold.education.value_counts())  # unknown:10%\n",
    "condition1 = data_hold['education'] =='basic.4y'\n",
    "condition2 = data_hold['education'] =='basic.6y'\n",
    "condition3 = data_hold['education'] =='basic.9y'\n",
    "#condition4 = data_hold['education'] =='illiterate'\n",
    "#condition5 = data_hold['education'] =='high.school'\n",
    "data_hold.loc[condition1, 'education'] = 'low'\n",
    "data_hold.loc[condition2, 'education'] = 'low'\n",
    "data_hold.loc[condition3, 'education'] = 'low'\n",
    "#data_hold.loc[condition4, 'education'] = 'low'\n",
    "print(\"impute\", data_hold.education.value_counts())\n",
    "\n",
    "# get dummies for categorical features\n",
    "data_hold_dummies = pd.get_dummies(data_hold, columns = ['job','marital_status','education',\n",
    "                                                         'credit_default','housing','loan',\n",
    "                                                         'contact','month','day_of_week', 'prev_days',\n",
    "                                                         'prev_contacts','prev_outcomes'])\n",
    "\n",
    "data_hold_dummies.shape"
   ]
  },
  {
   "cell_type": "code",
   "execution_count": 21,
   "metadata": {
    "collapsed": false
   },
   "outputs": [
    {
     "data": {
      "text/plain": [
       "0.3    3355\n",
       "0.2    1944\n",
       "0.4     989\n",
       "0.8     513\n",
       "0.5     469\n",
       "0.9     432\n",
       "0.7     274\n",
       "0.6     235\n",
       "1.0      27\n",
       "Name: subscribed, dtype: int64"
      ]
     },
     "execution_count": 21,
     "metadata": {},
     "output_type": "execute_result"
    }
   ],
   "source": [
    "sub_hold = voting.predict_proba(data_hold_dummies)\n",
    "output = pd.DataFrame(sub_hold[:,1], columns = ['subscribed'])\n",
    "output = output.round(decimals=1)\n",
    "result = pd.concat([id_hold, output], axis =1, join_axes=[id_hold.index])\n",
    "result.to_csv('output.csv', index=False)\n",
    "result.subscribed.value_counts()"
   ]
  },
  {
   "cell_type": "code",
   "execution_count": 22,
   "metadata": {
    "collapsed": false
   },
   "outputs": [],
   "source": [
    "def test_auc():\n",
    "    assert roc_auc >= .73\n",
    "\n"
   ]
  },
  {
   "cell_type": "code",
   "execution_count": 23,
   "metadata": {
    "collapsed": true
   },
   "outputs": [],
   "source": [
    "assert True"
   ]
  },
  {
   "cell_type": "code",
   "execution_count": null,
   "metadata": {
    "collapsed": true
   },
   "outputs": [],
   "source": []
  }
 ],
 "metadata": {
  "anaconda-cloud": {},
  "kernelspec": {
   "display_name": "Python 3",
   "language": "python",
   "name": "python3"
  },
  "language_info": {
   "codemirror_mode": {
    "name": "ipython",
    "version": 3
   },
   "file_extension": ".py",
   "mimetype": "text/x-python",
   "name": "python",
   "nbconvert_exporter": "python",
   "pygments_lexer": "ipython3",
   "version": "3.6.1"
  }
 },
 "nbformat": 4,
 "nbformat_minor": 2
}
